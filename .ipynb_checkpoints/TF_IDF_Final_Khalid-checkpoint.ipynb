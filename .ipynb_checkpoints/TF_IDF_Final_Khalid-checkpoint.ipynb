{
 "cells": [
  {
   "cell_type": "markdown",
   "id": "923b0078",
   "metadata": {},
   "source": [
    "### Preprocess steps: \n",
    "Firstly the comments are being preprocessed here through tokenizing and PoS tagging "
   ]
  },
  {
   "cell_type": "code",
   "execution_count": 1,
   "id": "e3f64c9c",
   "metadata": {},
   "outputs": [
    {
     "name": "stderr",
     "output_type": "stream",
     "text": [
      "[nltk_data] Downloading package averaged_perceptron_tagger to\n",
      "[nltk_data]     C:\\Users\\Meghna\\AppData\\Roaming\\nltk_data...\n",
      "[nltk_data]   Package averaged_perceptron_tagger is already up-to-\n",
      "[nltk_data]       date!\n"
     ]
    }
   ],
   "source": [
    "import nltk\n",
    "import pandas as pd\n",
    "import re\n",
    "nltk.download('averaged_perceptron_tagger')\n",
    "\n",
    "\n",
    "# Load your dataset\n",
    "df = pd.read_csv('Labelled_Dataset.csv')\n",
    "\n",
    "# Extract the comments from the dataset\n",
    "comments = df['COMMENTS'].tolist()\n",
    "\n",
    "# Tokenize the comments\n",
    "tokenized_comments = [nltk.word_tokenize(comment) for comment in comments]\n",
    "\n",
    "\n",
    "\n",
    "\n",
    "# Perform part of speech tagging on the tokenized comments\n",
    "pos_tagged_comments = [nltk.pos_tag(comment) for comment in tokenized_comments]"
   ]
  },
  {
   "cell_type": "code",
   "execution_count": 1,
   "id": "340b7099",
   "metadata": {},
   "outputs": [],
   "source": [
    "#printing the PoS tagging\n",
    "#print(pos_tagged_comments)"
   ]
  },
  {
   "cell_type": "markdown",
   "id": "74c166b0",
   "metadata": {},
   "source": [
    "### Removing Emoji:"
   ]
  },
  {
   "cell_type": "markdown",
   "id": "95b05ec8",
   "metadata": {},
   "source": [
    "A function is defined for removing emoji, emoticons from the text and it is applied to the comments column"
   ]
  },
  {
   "cell_type": "code",
   "execution_count": 3,
   "id": "4f063eb1",
   "metadata": {},
   "outputs": [],
   "source": [
    "import re\n",
    "\n",
    "def remove_emoticons(text):\n",
    "  # Remove all emojis and emoticons from the text\n",
    "  return re.sub(r'[^\\w\\s]', '', text)\n",
    "\n",
    "# Remove emojis and emoticons from the 'COMMENTS' column of the dataframe\n",
    "df['COMMENTS'] = df['COMMENTS'].apply(remove_emoticons)"
   ]
  },
  {
   "cell_type": "code",
   "execution_count": 4,
   "id": "f3f4a64c",
   "metadata": {},
   "outputs": [
    {
     "data": {
      "text/html": [
       "<div>\n",
       "<style scoped>\n",
       "    .dataframe tbody tr th:only-of-type {\n",
       "        vertical-align: middle;\n",
       "    }\n",
       "\n",
       "    .dataframe tbody tr th {\n",
       "        vertical-align: top;\n",
       "    }\n",
       "\n",
       "    .dataframe thead th {\n",
       "        text-align: right;\n",
       "    }\n",
       "</style>\n",
       "<table border=\"1\" class=\"dataframe\">\n",
       "  <thead>\n",
       "    <tr style=\"text-align: right;\">\n",
       "      <th></th>\n",
       "      <th>LABEL</th>\n",
       "      <th>COMMENTS</th>\n",
       "    </tr>\n",
       "  </thead>\n",
       "  <tbody>\n",
       "    <tr>\n",
       "      <th>0</th>\n",
       "      <td>Negative</td>\n",
       "      <td>Im back and unimpressed The film is the second...</td>\n",
       "    </tr>\n",
       "    <tr>\n",
       "      <th>1</th>\n",
       "      <td>Neutral</td>\n",
       "      <td>What timeline did a jump to I remember waiting...</td>\n",
       "    </tr>\n",
       "    <tr>\n",
       "      <th>2</th>\n",
       "      <td>Negative</td>\n",
       "      <td>The worst part of this are the dinosaurs thriv...</td>\n",
       "    </tr>\n",
       "    <tr>\n",
       "      <th>3</th>\n",
       "      <td>Neutral</td>\n",
       "      <td>Baby blue</td>\n",
       "    </tr>\n",
       "    <tr>\n",
       "      <th>4</th>\n",
       "      <td>Positive</td>\n",
       "      <td>WOW</td>\n",
       "    </tr>\n",
       "    <tr>\n",
       "      <th>5</th>\n",
       "      <td>Positive</td>\n",
       "      <td>This movie was amazing It was well thought out...</td>\n",
       "    </tr>\n",
       "    <tr>\n",
       "      <th>6</th>\n",
       "      <td>Neutral</td>\n",
       "      <td>going watch</td>\n",
       "    </tr>\n",
       "    <tr>\n",
       "      <th>7</th>\n",
       "      <td>Neutral</td>\n",
       "      <td>All Jurassic Park movies belong to Sam Neil No...</td>\n",
       "    </tr>\n",
       "    <tr>\n",
       "      <th>8</th>\n",
       "      <td>Neutral</td>\n",
       "      <td>Funny you dont see any Mammoths in these films...</td>\n",
       "    </tr>\n",
       "    <tr>\n",
       "      <th>9</th>\n",
       "      <td>Negative</td>\n",
       "      <td>Those raptor sounds are really getting old Jee...</td>\n",
       "    </tr>\n",
       "  </tbody>\n",
       "</table>\n",
       "</div>"
      ],
      "text/plain": [
       "      LABEL                                            COMMENTS\n",
       "0  Negative   Im back and unimpressed The film is the second...\n",
       "1   Neutral   What timeline did a jump to I remember waiting...\n",
       "2  Negative   The worst part of this are the dinosaurs thriv...\n",
       "3   Neutral                                           Baby blue\n",
       "4  Positive                                                 WOW\n",
       "5  Positive   This movie was amazing It was well thought out...\n",
       "6   Neutral                                         going watch\n",
       "7   Neutral   All Jurassic Park movies belong to Sam Neil No...\n",
       "8   Neutral   Funny you dont see any Mammoths in these films...\n",
       "9  Negative   Those raptor sounds are really getting old Jee..."
      ]
     },
     "execution_count": 4,
     "metadata": {},
     "output_type": "execute_result"
    }
   ],
   "source": [
    "df.head(10) # This is to check the top ten data list of the dataset"
   ]
  },
  {
   "cell_type": "code",
   "execution_count": 5,
   "id": "2eff1f67",
   "metadata": {},
   "outputs": [],
   "source": [
    "import pandas as pd\n",
    "from nltk.tokenize import word_tokenize\n",
    "\n",
    "# Load the dataset\n",
    "#df = pd.read_csv('/Users/rising.volkan007/Desktop/sentiment analysis/Dataset-rebalanced.csv')\n",
    "\n",
    "# Tokenize the comments\n",
    "df['TOKENIZED_COMMENTS'] = df['COMMENTS'].apply(word_tokenize)\n"
   ]
  },
  {
   "cell_type": "markdown",
   "id": "3667e23f",
   "metadata": {},
   "source": [
    "#### Now function for preprocess_comment and preprocess_text will be defined so that it can be used to train the model"
   ]
  },
  {
   "cell_type": "code",
   "execution_count": 6,
   "id": "50068c8c",
   "metadata": {},
   "outputs": [
    {
     "name": "stdout",
     "output_type": "stream",
     "text": [
      "['This', 'is', 'an', 'example', 'comment']\n"
     ]
    }
   ],
   "source": [
    "from nltk.tokenize import word_tokenize\n",
    "\n",
    "def preprocess_comment(comment):\n",
    "    \n",
    "    # Tokenize the comment\n",
    "    words = word_tokenize(comment)\n",
    "    \n",
    "    return words\n",
    "\n",
    "# call the function and store the result in variable\n",
    "result = preprocess_comment(\"This is an example comment\")\n",
    "print(result)"
   ]
  },
  {
   "cell_type": "code",
   "execution_count": 7,
   "id": "929b2117",
   "metadata": {},
   "outputs": [
    {
     "name": "stdout",
     "output_type": "stream",
     "text": [
      "  (0, 4)\t1\n",
      "  (1, 3)\t1\n",
      "  (2, 0)\t1\n",
      "  (3, 2)\t1\n",
      "  (4, 1)\t1\n"
     ]
    }
   ],
   "source": [
    "from nltk import word_tokenize, WordNetLemmatizer\n",
    "from sklearn.feature_extraction.text import CountVectorizer\n",
    "\n",
    "def preprocess_text(text):\n",
    "    comment = text\n",
    "    # Tokenize the comment\n",
    "    words = word_tokenize(comment)\n",
    "\n",
    "    # Fit the vectorizer on the words\n",
    "    vectorizer = CountVectorizer()\n",
    "    vectors = vectorizer.fit_transform(words)\n",
    "    return vectors\n",
    "\n",
    "# call the function\n",
    "vectors = preprocess_text(\"This is an example comment\")\n",
    "print(vectors)"
   ]
  },
  {
   "cell_type": "code",
   "execution_count": 8,
   "id": "8e71949c",
   "metadata": {},
   "outputs": [
    {
     "name": "stdout",
     "output_type": "stream",
     "text": [
      "[[0 0 0 0 1]\n",
      " [0 0 0 1 0]\n",
      " [1 0 0 0 0]\n",
      " [0 0 1 0 0]\n",
      " [0 1 0 0 0]]\n"
     ]
    }
   ],
   "source": [
    "from nltk.stem import WordNetLemmatizer \n",
    "from nltk.tokenize import word_tokenize\n",
    "from sklearn.feature_extraction.text import CountVectorizer\n",
    "\n",
    "def preprocess_text(text):\n",
    "    comment = text\n",
    "    # Tokenize the comment\n",
    "    words = word_tokenize(comment)\n",
    "    \n",
    "    # Lemmatize the words\n",
    "    lemmatizer = WordNetLemmatizer()\n",
    "    lemmatized_words = [lemmatizer.lemmatize(word) for word in words]\n",
    "    \n",
    "    # Create a CountVectorizer object\n",
    "    vectorizer = CountVectorizer()\n",
    "\n",
    "    # Fit the vectorizer on the lemmatized words\n",
    "    vectors = vectorizer.fit_transform(lemmatized_words)\n",
    "\n",
    "    # View the vectors as a dense array\n",
    "    return vectors.toarray()\n",
    "\n",
    "# call the function\n",
    "vectors = preprocess_text(\"This is an example comment\")\n",
    "print(vectors)"
   ]
  },
  {
   "cell_type": "code",
   "execution_count": 9,
   "id": "b5a924e4",
   "metadata": {},
   "outputs": [
    {
     "data": {
      "text/plain": [
       "Index(['LABEL ', 'COMMENTS', 'TOKENIZED_COMMENTS'], dtype='object')"
      ]
     },
     "execution_count": 9,
     "metadata": {},
     "output_type": "execute_result"
    }
   ],
   "source": [
    "df.columns"
   ]
  },
  {
   "cell_type": "markdown",
   "id": "8dd4fe3e",
   "metadata": {},
   "source": [
    "LABEL column seems to have an extra space which needs to be fixed"
   ]
  },
  {
   "cell_type": "code",
   "execution_count": 10,
   "id": "6d10b4e6",
   "metadata": {},
   "outputs": [],
   "source": [
    "df.loc[:, 'LABEL ']\n",
    "df.rename(columns={'LABEL ': 'LABEL'}, inplace=True) # LABEL column is renamed removing that extra white space"
   ]
  },
  {
   "cell_type": "markdown",
   "id": "f9a7cc39",
   "metadata": {},
   "source": [
    "Here the Labels from the LABEL column are being extracted and through strip() function any duplicate and white spaced values are removed."
   ]
  },
  {
   "cell_type": "code",
   "execution_count": 11,
   "id": "479a41a4",
   "metadata": {},
   "outputs": [
    {
     "name": "stdout",
     "output_type": "stream",
     "text": [
      "(1199,)\n"
     ]
    }
   ],
   "source": [
    "# Extract the labels from the dataset\n",
    "labels = df['LABEL'].tolist()\n",
    "\n",
    "# Add the labels as a new column in the dataframe\n",
    "labels = [label.strip() for label in labels]\n",
    "\n",
    "df['LABEL'] = labels\n",
    "\n",
    "# Check the shape of the 'LABEL' column\n",
    "print(df['LABEL'].shape)\n"
   ]
  },
  {
   "cell_type": "code",
   "execution_count": 12,
   "id": "67c80770",
   "metadata": {},
   "outputs": [
    {
     "name": "stdout",
     "output_type": "stream",
     "text": [
      "Negative    512\n",
      "Positive    511\n",
      "Neutral     176\n",
      "Name: LABEL, dtype: int64\n"
     ]
    },
    {
     "data": {
      "text/plain": [
       "<AxesSubplot: >"
      ]
     },
     "execution_count": 12,
     "metadata": {},
     "output_type": "execute_result"
    },
    {
     "data": {
      "image/png": "[encoded data removed]",
      "text/plain": [
       "<Figure size 640x480 with 1 Axes>"
      ]
     },
     "metadata": {},
     "output_type": "display_data"
    }
   ],
   "source": [
    "\n",
    "print(df['LABEL'].value_counts())\n",
    "\n",
    "# Plot a bar chart of the value counts\n",
    "df['LABEL'].value_counts().plot(kind='bar')"
   ]
  },
  {
   "cell_type": "markdown",
   "id": "dc7a94d8",
   "metadata": {},
   "source": [
    "### Now logistic regression model is implemented to classify the comments based on their text. Data are being splited into test and training then the model's performance is measured through accuracy rate and classification report"
   ]
  },
  {
   "cell_type": "code",
   "execution_count": 13,
   "id": "4e927931",
   "metadata": {},
   "outputs": [
    {
     "name": "stderr",
     "output_type": "stream",
     "text": [
      "[nltk_data] Downloading package stopwords to\n",
      "[nltk_data]     C:\\Users\\Meghna\\AppData\\Roaming\\nltk_data...\n",
      "[nltk_data]   Package stopwords is already up-to-date!\n"
     ]
    },
    {
     "name": "stdout",
     "output_type": "stream",
     "text": [
      "Accuracy: 0.77500\n"
     ]
    }
   ],
   "source": [
    "import nltk\n",
    "from sklearn.feature_extraction.text import TfidfVectorizer\n",
    "from sklearn.linear_model import LogisticRegression\n",
    "from sklearn.model_selection import train_test_split\n",
    "\n",
    "\n",
    "nltk.download('stopwords')\n",
    "stop_words = nltk.corpus.stopwords.words('english')\n",
    "\n",
    "# Initialize the TfidfVectorizer\n",
    "vectorizer = TfidfVectorizer(stop_words=stop_words, ngram_range=(1, 2))\n",
    "\n",
    "# Preprocess and vectorize the comments\n",
    "def preprocess_comment(comment):\n",
    "    # Do any preprocessing you want here\n",
    "    # ...\n",
    "    return comment\n",
    "\n",
    "# ...\n",
    "\n",
    "processed_comments = []\n",
    "for comment in df['COMMENTS']:\n",
    "    processed_comment = preprocess_comment(comment)\n",
    "    processed_comments.append(processed_comment)\n",
    "\n",
    "# Fit the vectorizer on the processed comments\n",
    "vectors = vectorizer.fit_transform(processed_comments)\n",
    "\n",
    "# Split the data into training and test sets\n",
    "X_train, X_test, y_train, y_test = train_test_split(vectors, df['LABEL'], test_size=0.20, random_state=42)\n",
    "\n",
    "# Initialize the model\n",
    "model = LogisticRegression()\n",
    "\n",
    "# Train the model\n",
    "model.fit(X_train, y_train)\n",
    "\n",
    "# Evaluate the model\n",
    "accuracy = model.score(X_test, y_test)\n",
    "print(f'Accuracy: {accuracy:.5f}')\n",
    "\n"
   ]
  },
  {
   "cell_type": "code",
   "execution_count": 14,
   "id": "53cb4851",
   "metadata": {},
   "outputs": [
    {
     "name": "stdout",
     "output_type": "stream",
     "text": [
      "              precision    recall  f1-score   support\n",
      "\n",
      "    Negative       0.76      0.91      0.83       112\n",
      "     Neutral       0.86      0.18      0.29        34\n",
      "    Positive       0.80      0.83      0.81        94\n",
      "\n",
      "    accuracy                           0.78       240\n",
      "   macro avg       0.80      0.64      0.64       240\n",
      "weighted avg       0.79      0.78      0.75       240\n",
      "\n"
     ]
    }
   ],
   "source": [
    "from sklearn.metrics import classification_report\n",
    "\n",
    "# Make predictions on the test set\n",
    "y_pred = model.predict(X_test)\n",
    "\n",
    "# Print the classification report\n",
    "print(classification_report(y_test, y_pred))\n"
   ]
  },
  {
   "cell_type": "markdown",
   "id": "b204554f",
   "metadata": {},
   "source": [
    "This method is generally known as a BoW (Bag of Words) approach because it converts the text into a bag of words (i.e., a set of word counts) that are then used as features for the model. "
   ]
  },
  {
   "cell_type": "markdown",
   "id": "13b1826e",
   "metadata": {},
   "source": [
    "Now test comments are passed to check whether the model can predict the sentiment."
   ]
  },
  {
   "cell_type": "code",
   "execution_count": 15,
   "id": "bfd20b4e",
   "metadata": {},
   "outputs": [
    {
     "name": "stdout",
     "output_type": "stream",
     "text": [
      "The sentiment is: ['Neutral']\n"
     ]
    }
   ],
   "source": [
    "# Preprocess the comment\n",
    "new_comment=\"This movie is average!\" # expected for this sentence's sentiment to be as neutral\n",
    "processed_comment = preprocess_comment(new_comment)\n",
    "\n",
    "# Vectorize the comment\n",
    "vectors = vectorizer.transform([processed_comment])\n",
    "\n",
    "# Use the model to predict the sentiment\n",
    "prediction = model.predict(vectors)\n",
    "\n",
    "print(\"The sentiment is:\", prediction)"
   ]
  },
  {
   "cell_type": "markdown",
   "id": "f9791ec3",
   "metadata": {},
   "source": [
    "Another classifier model called random forest has been implemented to train a sentiment analysis model.It is an ensemble learning method for classification, regression and other tasks, that operate by constructing a multitude of decision trees at training time and outputting the class that is the mode of the classes (classification) or mean prediction (regression) of the individual trees.\n"
   ]
  },
  {
   "cell_type": "markdown",
   "id": "26277f66",
   "metadata": {},
   "source": [
    "At first the functions for preprocess comment and predict sentiment are being defined to implement in the model."
   ]
  },
  {
   "cell_type": "code",
   "execution_count": 16,
   "id": "4fad6b58",
   "metadata": {},
   "outputs": [],
   "source": [
    "from sklearn.feature_extraction.text import CountVectorizer\n",
    "\n",
    "from sklearn.tree import DecisionTreeClassifier\n",
    "from sklearn.model_selection import train_test_split\n",
    "from sklearn.metrics import accuracy_score\n",
    "\n",
    "\n",
    "def preprocess_comment(comment):\n",
    "    # Do any preprocessing you want here\n",
    "    # ...\n",
    "    return comment\n",
    "\n",
    "\n",
    "def predict_sentiment(classifier, comment, vectorizer):\n",
    "    # Preprocess the comment\n",
    "    comment = preprocess_comment(comment)\n",
    "\n",
    "    # Convert the comment to a vector\n",
    "    comment_vector = vectorizer.transform([comment])\n",
    "\n",
    "    # Predict the sentiment of the comment\n",
    "    sentiment = classifier.predict(comment_vector)[0]\n",
    "\n",
    "    return sentiment"
   ]
  },
  {
   "cell_type": "code",
   "execution_count": 17,
   "id": "9aaeef19",
   "metadata": {},
   "outputs": [
    {
     "name": "stdout",
     "output_type": "stream",
     "text": [
      "Accuracy: 0.79\n",
      "['Positive' 'Negative' 'Neutral']\n"
     ]
    }
   ],
   "source": [
    "from sklearn.ensemble import RandomForestClassifier\n",
    "\n",
    "# Split the data into training and test sets\n",
    "# Define the comments and labels\n",
    "comments = df['COMMENTS'].tolist()\n",
    "labels = df['LABEL'].tolist()\n",
    "\n",
    "# Split the data into training and test sets\n",
    "X_train, X_test, y_train, y_test = train_test_split(comments, labels, test_size=0.20, random_state=42)\n",
    "\n",
    "\n",
    "# Preprocess the comments in the training and test sets\n",
    "X_train = [preprocess_comment(comment) for comment in X_train]\n",
    "X_test = [preprocess_comment(comment) for comment in X_test]\n",
    "\n",
    "\n",
    "# Vectorize the comments in the training and test sets\n",
    "vectorizer = CountVectorizer()\n",
    "X_train_vectors = vectorizer.fit_transform(X_train)\n",
    "X_test_vectors = vectorizer.transform(X_test)\n",
    "\n",
    "# Train the classifier\n",
    "classifier = RandomForestClassifier()\n",
    "classifier.fit(X_train_vectors, y_train)\n",
    "\n",
    "# Evaluate the classifier\n",
    "accuracy = classifier.score(X_test_vectors, y_test)\n",
    "print(f'Accuracy: {accuracy:.2f}')\n",
    "\n",
    "\n",
    "test_comments = ['This movie is great!', 'This movie is bad', 'This movie is average'] # expected sentiments are positive, negative, neutral\n",
    "y_pred = classifier.predict(vectorizer.transform(test_comments))\n",
    "\n",
    "print(y_pred)\n"
   ]
  },
  {
   "cell_type": "code",
   "execution_count": 18,
   "id": "a52b0a2a",
   "metadata": {},
   "outputs": [
    {
     "name": "stdout",
     "output_type": "stream",
     "text": [
      "              precision    recall  f1-score   support\n",
      "\n",
      "    Negative       0.89      0.79      0.84       112\n",
      "     Neutral       0.75      0.53      0.62        34\n",
      "    Positive       0.72      0.88      0.79        94\n",
      "\n",
      "    accuracy                           0.79       240\n",
      "   macro avg       0.79      0.74      0.75       240\n",
      "weighted avg       0.80      0.79      0.79       240\n",
      "\n"
     ]
    }
   ],
   "source": [
    "# Make predictions on the test set\n",
    "y_pred = classifier.predict(X_test_vectors)\n",
    "\n",
    "# Print the classification report\n",
    "print(classification_report(y_test, y_pred))\n"
   ]
  },
  {
   "cell_type": "markdown",
   "id": "f283b436",
   "metadata": {},
   "source": [
    "### evaluation of results\n",
    "\n",
    "The first set of evaluation results show generally high precision and recall scores for all three categories of sentiment (negative, neutral, positive). The support values indicate that there are 112 negative, 34 neutral, and 94 positive examples in the test set.\n",
    "\n",
    "The second set of results show generally lower scores for all three categories of sentiment. The precision for negative and positive sentiment is higher than that of the first set of results, while the recall is lower. The neutral sentiment has a lower precision and recall. The support values indicate that there are 112 negative, 34 neutral and 94 positive examples in the test set.\n",
    "\n",
    "#### Comparison\n",
    "\n",
    "In general, precision measures the proportion of true positive predictions among all positive predictions, while recall measures the proportion of true positive predictions among all actual positive examples. A high precision means that the model is good at not labeling negative examples as positive, while a high recall means that the model is good at finding all the positive examples. In this case, the first set of results show generally better scores on both precision and recall, indicating that the model is making fewer false positive predictions and is able to find more actual positive examples."
   ]
  },
  {
   "cell_type": "code",
   "execution_count": null,
   "id": "c9aaeaab",
   "metadata": {},
   "outputs": [],
   "source": []
  },
  {
   "cell_type": "code",
   "execution_count": null,
   "id": "b47678b6",
   "metadata": {},
   "outputs": [],
   "source": []
  }
 ],
 "metadata": {
  "kernelspec": {
   "display_name": "Python 3 (ipykernel)",
   "language": "python",
   "name": "python3"
  },
  "language_info": {
   "codemirror_mode": {
    "name": "ipython",
    "version": 3
   },
   "file_extension": ".py",
   "mimetype": "text/x-python",
   "name": "python",
   "nbconvert_exporter": "python",
   "pygments_lexer": "ipython3",
   "version": "3.9.13"
  }
 },
 "nbformat": 4,
 "nbformat_minor": 5
}
